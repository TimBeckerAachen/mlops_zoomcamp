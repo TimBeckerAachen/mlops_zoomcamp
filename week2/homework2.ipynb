{
 "cells": [
  {
   "cell_type": "markdown",
   "id": "216106cd",
   "metadata": {},
   "source": [
    "# Q1. Install MLflow"
   ]
  },
  {
   "cell_type": "code",
   "execution_count": 1,
   "id": "79b8d277",
   "metadata": {},
   "outputs": [
    {
     "name": "stdout",
     "output_type": "stream",
     "text": [
      "mlflow, version 1.26.0\r\n"
     ]
    }
   ],
   "source": [
    "!mlflow --version"
   ]
  },
  {
   "cell_type": "markdown",
   "id": "5592c1dd",
   "metadata": {},
   "source": [
    "# Q2. Download and preprocess the data"
   ]
  },
  {
   "cell_type": "code",
   "execution_count": 2,
   "id": "1c17533e",
   "metadata": {},
   "outputs": [],
   "source": [
    "!python preprocess_data.py --raw_data_path ./data/ --dest_path ./output"
   ]
  },
  {
   "cell_type": "markdown",
   "id": "a2ddcb79",
   "metadata": {},
   "source": [
    "4 files were created in the output folder: dv.pkl, test.pkl, train.pkl, valid.pkl"
   ]
  },
  {
   "cell_type": "markdown",
   "id": "c52f6b64",
   "metadata": {},
   "source": [
    "# Q3. Train a model with autolog"
   ]
  },
  {
   "cell_type": "code",
   "execution_count": 5,
   "id": "fb4d31bd",
   "metadata": {},
   "outputs": [
    {
     "name": "stdout",
     "output_type": "stream",
     "text": [
      "2022/05/29 12:48:53 INFO mlflow.tracking.fluent: Experiment with name 'homework2-exp' does not exist. Creating a new experiment.\r\n",
      "2022/05/29 12:48:53 WARNING mlflow.utils.autologging_utils: You are using an unsupported version of sklearn. If you encounter errors during autologging, try upgrading / downgrading sklearn to a supported version, or try upgrading MLflow.\r\n"
     ]
    }
   ],
   "source": [
    "!python train.py --data_path ./output"
   ]
  },
  {
   "cell_type": "code",
   "execution_count": 6,
   "id": "85e8ae4d",
   "metadata": {},
   "outputs": [
    {
     "name": "stdout",
     "output_type": "stream",
     "text": [
      "[2022-05-29 12:51:30 +0200] [41240] [INFO] Starting gunicorn 20.1.0\n",
      "[2022-05-29 12:51:30 +0200] [41240] [INFO] Listening at: http://127.0.0.1:5000 (41240)\n",
      "[2022-05-29 12:51:30 +0200] [41240] [INFO] Using worker: sync\n",
      "[2022-05-29 12:51:30 +0200] [41241] [INFO] Booting worker with pid: 41241\n",
      "^C\n",
      "[2022-05-29 12:57:24 +0200] [41240] [INFO] Handling signal: int\n",
      "[2022-05-29 12:57:24 +0200] [41241] [INFO] Worker exiting (pid: 41241)\n"
     ]
    }
   ],
   "source": [
    "!mlflow ui --backend-store-uri sqlite:///mlflow.db"
   ]
  },
  {
   "cell_type": "markdown",
   "id": "23423bb0",
   "metadata": {},
   "source": [
    "| Name        | Value       |\n",
    "| ----------- | ----------- |\n",
    "|bootstrap\t  |True         |\n",
    "|ccp_alpha\t  |0.0          |\n",
    "|criterion\t  |squared_error|\n",
    "|max_depth\t  |10           | \n",
    "|max_features |1.0          |\n",
    "|max_leaf_nodes\t|None       ||\n",
    "|max_samples\t|None       |        |\n",
    "|min_impurity_decrease\t|0.0|               |\n",
    "|min_samples_leaf\t|1      |          |\n",
    "|min_samples_split\t|2      |          |\n",
    "|min_weight_fraction_leaf\t|0.0|              |\n",
    "|n_estimators\t|100        |          |\n",
    "|n_jobs\t|None               |\n",
    "|oob_score\t|False          |\n",
    "|random_state\t|0          |\n",
    "|verbose\t|0              |\n",
    "|warm_start\t|False          |"
   ]
  },
  {
   "cell_type": "markdown",
   "id": "02292321",
   "metadata": {},
   "source": [
    "17 parameters are automatically logged"
   ]
  },
  {
   "cell_type": "markdown",
   "id": "94bf5864",
   "metadata": {},
   "source": [
    "# Q4. Launch the tracking server locally"
   ]
  },
  {
   "cell_type": "markdown",
   "id": "6c46cf5e",
   "metadata": {},
   "source": [
    "!mlflow ui --backend-store-uri sqlite:///mlflow.db --default-artifact-root ./artifacts"
   ]
  },
  {
   "cell_type": "markdown",
   "id": "dbc1a68f",
   "metadata": {},
   "source": [
    "default-artifact-root is required to properly setup the server"
   ]
  },
  {
   "cell_type": "markdown",
   "id": "12a08549",
   "metadata": {},
   "source": [
    "# Q5. Tune the hyperparameters of the model"
   ]
  },
  {
   "cell_type": "code",
   "execution_count": 7,
   "id": "c3357c6e",
   "metadata": {},
   "outputs": [
    {
     "name": "stdout",
     "output_type": "stream",
     "text": [
      "2022/05/29 13:24:54 INFO mlflow.tracking.fluent: Experiment with name 'random-forest-hyperopt' does not exist. Creating a new experiment.\n",
      "100%|█████████| 50/50 [04:56<00:00,  5.92s/trial, best loss: 6.6284257482044735]\n"
     ]
    }
   ],
   "source": [
    "!python hpo.py"
   ]
  },
  {
   "cell_type": "markdown",
   "id": "065fde74",
   "metadata": {},
   "source": [
    "![hpo](images/hpo_results.png)"
   ]
  },
  {
   "cell_type": "markdown",
   "id": "a42d72f5",
   "metadata": {},
   "source": [
    "The lowest rmse is 6.628."
   ]
  },
  {
   "cell_type": "markdown",
   "id": "c19faf21",
   "metadata": {},
   "source": [
    "# Q6. Promote the best model to the model registry"
   ]
  },
  {
   "cell_type": "code",
   "execution_count": 12,
   "id": "4b8491f9",
   "metadata": {},
   "outputs": [
    {
     "name": "stdout",
     "output_type": "stream",
     "text": [
      "2022/05/29 23:19:42 WARNING mlflow.utils.autologging_utils: You are using an unsupported version of sklearn. If you encounter errors during autologging, try upgrading / downgrading sklearn to a supported version, or try upgrading MLflow.\n",
      "run id: 0067710766b34c83aea513e01df70e5f, rmse: 6.5489\n",
      "run id: 124c5764258b4f638cd286487f89b3dc, rmse: 6.5491\n",
      "run id: 77cc48e796774c75a8a6e1b2dbf8a5f2, rmse: 6.5491\n",
      "run id: 84588225f86a40f49800b2197718bfee, rmse: 6.5498\n",
      "run id: c10e2dc058784a5f91ea58cb9da1f282, rmse: 6.5479\n",
      "Successfully registered model 'rf_model'.\n",
      "2022/05/29 23:20:45 INFO mlflow.tracking._model_registry.client: Waiting up to 300 seconds for model version to finish creation.                     Model name: rf_model, version 1\n",
      "Created version '1' of model 'rf_model'.\n"
     ]
    }
   ],
   "source": [
    "!python register_model.py"
   ]
  },
  {
   "cell_type": "markdown",
   "id": "b93fca62",
   "metadata": {},
   "source": [
    "the best model has a rmse of 6.55 for the test data set"
   ]
  },
  {
   "cell_type": "code",
   "execution_count": null,
   "id": "1245569c",
   "metadata": {},
   "outputs": [],
   "source": []
  }
 ],
 "metadata": {
  "kernelspec": {
   "display_name": "mlops-zoomcamp",
   "language": "python",
   "name": "mlops-zoomcamp"
  },
  "language_info": {
   "codemirror_mode": {
    "name": "ipython",
    "version": 3
   },
   "file_extension": ".py",
   "mimetype": "text/x-python",
   "name": "python",
   "nbconvert_exporter": "python",
   "pygments_lexer": "ipython3",
   "version": "3.9.7"
  }
 },
 "nbformat": 4,
 "nbformat_minor": 5
}
