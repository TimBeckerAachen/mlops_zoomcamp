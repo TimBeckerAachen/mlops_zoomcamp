{
 "cells": [
  {
   "cell_type": "code",
   "execution_count": 1,
   "id": "2c51efaa",
   "metadata": {},
   "outputs": [
    {
     "name": "stdout",
     "output_type": "stream",
     "text": [
      "scikit-learn==1.1.1\r\n"
     ]
    }
   ],
   "source": [
    "!pip freeze | grep scikit-learn"
   ]
  },
  {
   "cell_type": "code",
   "execution_count": 2,
   "id": "0ef880a0",
   "metadata": {},
   "outputs": [],
   "source": [
    "import pickle\n",
    "import pandas as pd"
   ]
  },
  {
   "cell_type": "code",
   "execution_count": 3,
   "id": "7836ccfd",
   "metadata": {},
   "outputs": [
    {
     "name": "stderr",
     "output_type": "stream",
     "text": [
      "/home/tim/.pyenv/versions/3.9.6/envs/mlops-test/lib/python3.9/site-packages/sklearn/base.py:329: UserWarning: Trying to unpickle estimator DictVectorizer from version 1.0.2 when using version 1.1.1. This might lead to breaking code or invalid results. Use at your own risk. For more info please refer to:\n",
      "https://scikit-learn.org/stable/model_persistence.html#security-maintainability-limitations\n",
      "  warnings.warn(\n",
      "/home/tim/.pyenv/versions/3.9.6/envs/mlops-test/lib/python3.9/site-packages/sklearn/base.py:329: UserWarning: Trying to unpickle estimator LinearRegression from version 1.0.2 when using version 1.1.1. This might lead to breaking code or invalid results. Use at your own risk. For more info please refer to:\n",
      "https://scikit-learn.org/stable/model_persistence.html#security-maintainability-limitations\n",
      "  warnings.warn(\n"
     ]
    }
   ],
   "source": [
    "with open('model.bin', 'rb') as f_in:\n",
    "    dv, lr = pickle.load(f_in)"
   ]
  },
  {
   "cell_type": "code",
   "execution_count": 4,
   "id": "41c08294",
   "metadata": {},
   "outputs": [],
   "source": [
    "categorical = ['PUlocationID', 'DOlocationID']\n",
    "\n",
    "def read_data(filename):\n",
    "    df = pd.read_parquet(filename)\n",
    "    \n",
    "    df['duration'] = df.dropOff_datetime - df.pickup_datetime\n",
    "    df['duration'] = df.duration.dt.total_seconds() / 60\n",
    "\n",
    "    df = df[(df.duration >= 1) & (df.duration <= 60)].copy()\n",
    "\n",
    "    df[categorical] = df[categorical].fillna(-1).astype('int').astype('str')\n",
    "    \n",
    "    return df"
   ]
  },
  {
   "cell_type": "code",
   "execution_count": 5,
   "id": "4854399a",
   "metadata": {},
   "outputs": [],
   "source": [
    "year = 2021\n",
    "month = 2\n",
    "\n",
    "df = read_data(f'https://nyc-tlc.s3.amazonaws.com/trip+data/fhv_tripdata_{year}-{month:02d}.parquet')"
   ]
  },
  {
   "cell_type": "code",
   "execution_count": 6,
   "id": "669fda0a",
   "metadata": {},
   "outputs": [],
   "source": [
    "dicts = df[categorical].to_dict(orient='records')\n",
    "X_val = dv.transform(dicts)\n",
    "y_pred = lr.predict(X_val)"
   ]
  },
  {
   "cell_type": "markdown",
   "id": "e904b57e",
   "metadata": {},
   "source": [
    "# Q1. Notebook"
   ]
  },
  {
   "cell_type": "markdown",
   "id": "3d9cfd7d",
   "metadata": {},
   "source": [
    "What's the mean predicted duration for this dataset?"
   ]
  },
  {
   "cell_type": "code",
   "execution_count": 8,
   "id": "5e5da6cd",
   "metadata": {},
   "outputs": [
    {
     "data": {
      "text/plain": [
       "16.191691679979066"
      ]
     },
     "execution_count": 8,
     "metadata": {},
     "output_type": "execute_result"
    }
   ],
   "source": [
    "y_pred.mean()"
   ]
  },
  {
   "cell_type": "markdown",
   "id": "9bed9042",
   "metadata": {},
   "source": [
    "# Q2. Preparing the output"
   ]
  },
  {
   "cell_type": "code",
   "execution_count": 14,
   "id": "49e1857d",
   "metadata": {},
   "outputs": [],
   "source": [
    "output_file = f'result_fhv_tripdata_{year}-{month:02d}.parquet'"
   ]
  },
  {
   "cell_type": "code",
   "execution_count": 9,
   "id": "ecd3312e",
   "metadata": {},
   "outputs": [],
   "source": [
    "df['ride_id'] = f'{year:04d}/{month:02d}_' + df.index.astype('str')"
   ]
  },
  {
   "cell_type": "code",
   "execution_count": 12,
   "id": "697764cf",
   "metadata": {},
   "outputs": [],
   "source": [
    "df_result = pd.DataFrame()\n",
    "df_result['ride_id'] = df['ride_id']\n",
    "df_result['predictions'] = y_pred"
   ]
  },
  {
   "cell_type": "code",
   "execution_count": 15,
   "id": "c408aa12",
   "metadata": {},
   "outputs": [],
   "source": [
    "df_result.to_parquet(\n",
    "    output_file,\n",
    "    engine='pyarrow',\n",
    "    compression=None,\n",
    "    index=False\n",
    ")"
   ]
  },
  {
   "cell_type": "markdown",
   "id": "fc3e358b",
   "metadata": {},
   "source": [
    "What's the size of the output file?"
   ]
  },
  {
   "cell_type": "code",
   "execution_count": 19,
   "id": "3f2d4b49",
   "metadata": {},
   "outputs": [
    {
     "name": "stdout",
     "output_type": "stream",
     "text": [
      "-rw-rw-r-- 1 tim tim 19M Jun 26 11:22 result_fhv_tripdata_2021-02.parquet\r\n"
     ]
    }
   ],
   "source": [
    "!ls -l --block-size=M | grep result"
   ]
  },
  {
   "cell_type": "markdown",
   "id": "f4e023d2",
   "metadata": {},
   "source": [
    "# Q3. Creating the scoring script"
   ]
  },
  {
   "cell_type": "markdown",
   "id": "ae4d5e5d",
   "metadata": {},
   "source": [
    "Which command you need to execute for that?"
   ]
  },
  {
   "cell_type": "code",
   "execution_count": 21,
   "id": "c74c81ac",
   "metadata": {},
   "outputs": [
    {
     "name": "stdout",
     "output_type": "stream",
     "text": [
      "[NbConvertApp] Converting notebook starter.ipynb to script\n",
      "[NbConvertApp] Writing 1575 bytes to starter.py\n"
     ]
    }
   ],
   "source": [
    "!jupyter nbconvert --to script starter.ipynb"
   ]
  },
  {
   "cell_type": "markdown",
   "id": "e6d1ff9b",
   "metadata": {},
   "source": [
    "# Q4. Virtual environment"
   ]
  },
  {
   "cell_type": "markdown",
   "id": "d68e911e",
   "metadata": {},
   "source": [
    "!pipenv --python=3.9 install scikit-learn==1.0.2 pandas pyarrow"
   ]
  },
  {
   "cell_type": "markdown",
   "id": "e8fbdd63",
   "metadata": {},
   "source": [
    "What's the first hash for the Scikit-Learn dependency?"
   ]
  },
  {
   "cell_type": "markdown",
   "id": "3eb6daaf",
   "metadata": {},
   "source": [
    "scikit-learn\": {\n",
    "            \"hashes\": [\n",
    "                \"sha256:08ef968f6b72033c16c479c966bf37ccd49b06ea91b765e1cc27afefe723920b\","
   ]
  },
  {
   "cell_type": "markdown",
   "id": "291f6faf",
   "metadata": {},
   "source": [
    "# Q5. Parametrize the script"
   ]
  },
  {
   "cell_type": "code",
   "execution_count": 23,
   "id": "13a8f6f9",
   "metadata": {},
   "outputs": [
    {
     "name": "stdout",
     "output_type": "stream",
     "text": [
      "/home/tim/.pyenv/versions/3.9.6/envs/mlops-test/lib/python3.9/site-packages/sklearn/base.py:329: UserWarning: Trying to unpickle estimator DictVectorizer from version 1.0.2 when using version 1.1.1. This might lead to breaking code or invalid results. Use at your own risk. For more info please refer to:\n",
      "https://scikit-learn.org/stable/model_persistence.html#security-maintainability-limitations\n",
      "  warnings.warn(\n",
      "/home/tim/.pyenv/versions/3.9.6/envs/mlops-test/lib/python3.9/site-packages/sklearn/base.py:329: UserWarning: Trying to unpickle estimator LinearRegression from version 1.0.2 when using version 1.1.1. This might lead to breaking code or invalid results. Use at your own risk. For more info please refer to:\n",
      "https://scikit-learn.org/stable/model_persistence.html#security-maintainability-limitations\n",
      "  warnings.warn(\n",
      "mean predicted duration 16.298821614015107\n",
      "wrote predictions to result_fhv_tripdata_2021-03.parquet\n"
     ]
    }
   ],
   "source": [
    "!python starter.py 2021 3"
   ]
  },
  {
   "cell_type": "markdown",
   "id": "b938e254",
   "metadata": {},
   "source": [
    "What's the mean predicted duration? (same with correct environment)"
   ]
  },
  {
   "cell_type": "markdown",
   "id": "f0407d41",
   "metadata": {},
   "source": [
    "mean predicted duration 16.298821614015107"
   ]
  },
  {
   "cell_type": "markdown",
   "id": "aea40a8c",
   "metadata": {},
   "source": [
    "# Q6. Docker contaner"
   ]
  },
  {
   "cell_type": "code",
   "execution_count": 28,
   "id": "6b42b55d",
   "metadata": {},
   "outputs": [
    {
     "name": "stdout",
     "output_type": "stream",
     "text": [
      "Sending build context to Docker daemon  55.33MB\n",
      "Step 1/6 : FROM agrigorev/zoomcamp-model:mlops-3.9.7-slim\n",
      " ---> 8cffad87c549\n",
      "Step 2/6 : RUN pip install -U pip\n",
      " ---> Using cache\n",
      " ---> 72446bb858f0\n",
      "Step 3/6 : RUN pip install pipenv\n",
      " ---> Using cache\n",
      " ---> afb6542751a1\n",
      "Step 4/6 : COPY [ \"Pipfile\", \"Pipfile.lock\", \"starter.py\", \"./\"]\n",
      " ---> 36bbee97e18d\n",
      "Step 5/6 : RUN pipenv install --system --deploy\n",
      " ---> Running in 0856a5d75f36\n",
      "Installing dependencies from Pipfile.lock (4076db)...\n",
      "  🐍   ▉▉▉▉▉▉▉▉▉▉▉▉▉▉▉▉▉▉▉▉▉▉▉▉▉▉▉▉▉▉▉▉ 9/9 — 00:00:24 00:00:00m  🐍   ▉▉▉▉▉▉▉▉▉▉▉▉▉▉▉▉▉▉▉▉▉▉▉▉▉▉▉▉▉▉▉▉ 1/9 — 00:00:00\u001b[91m  🐍   ▉▉▉▉▉▉▉▉▉▉▉▉▉▉▉▉▉▉▉▉▉▉▉▉▉▉▉▉▉▉▉▉ 4/9 — 00:00:00\u001b[91m  🐍   ▉▉▉▉▉▉▉▉▉▉▉▉▉▉▉▉▉▉▉▉▉▉▉▉▉▉▉▉▉▉▉▉ 7/9 — 00:00:00\u001b[91m  🐍   ▉▉▉▉▉▉▉▉▉▉▉▉▉▉▉▉▉▉▉▉▉▉▉▉▉▉▉▉▉▉▉▉ 8/9 — 00:00:02\u001b[91m  🐍   ▉▉▉▉▉▉▉▉▉▉▉▉▉▉▉▉▉▉▉▉▉▉▉▉▉▉▉▉▉▉▉▉ 9/9 — 00:00:02\n",
      "\u001b[0mRemoving intermediate container 0856a5d75f36\n",
      " ---> c24d9d7f3bae\n",
      "Step 6/6 : ENTRYPOINT [ \"python\", \"starter.py\", \"2021\", \"4\" ]\n",
      " ---> Running in 165191e99164\n",
      "Removing intermediate container 165191e99164\n",
      " ---> 39c17f0944f6\n",
      "Successfully built 39c17f0944f6\n",
      "Successfully tagged ride-duration:v1\n"
     ]
    }
   ],
   "source": [
    "!docker build -t ride-duration:v1 ."
   ]
  },
  {
   "cell_type": "code",
   "execution_count": 29,
   "id": "e455e182",
   "metadata": {},
   "outputs": [
    {
     "name": "stdout",
     "output_type": "stream",
     "text": [
      "mean predicted duration 9.967573179784523\n",
      "wrote predictions to result_fhv_tripdata_2021-04.parquet\n"
     ]
    }
   ],
   "source": [
    "!docker run -it --rm ride-duration:v1"
   ]
  },
  {
   "cell_type": "code",
   "execution_count": null,
   "id": "e2527a2d",
   "metadata": {},
   "outputs": [],
   "source": []
  },
  {
   "cell_type": "code",
   "execution_count": null,
   "id": "baeeaf8d",
   "metadata": {},
   "outputs": [],
   "source": []
  }
 ],
 "metadata": {
  "kernelspec": {
   "display_name": "mlops-test",
   "language": "python",
   "name": "mlops-test"
  },
  "language_info": {
   "codemirror_mode": {
    "name": "ipython",
    "version": 3
   },
   "file_extension": ".py",
   "mimetype": "text/x-python",
   "name": "python",
   "nbconvert_exporter": "python",
   "pygments_lexer": "ipython3",
   "version": "3.9.6"
  }
 },
 "nbformat": 4,
 "nbformat_minor": 5
}
